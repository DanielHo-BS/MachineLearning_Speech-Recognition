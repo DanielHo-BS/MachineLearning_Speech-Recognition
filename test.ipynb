{
 "cells": [
  {
   "cell_type": "code",
   "execution_count": 1,
   "metadata": {},
   "outputs": [
    {
     "name": "stderr",
     "output_type": "stream",
     "text": [
      "C:\\Users\\D\\anaconda3\\envs\\ml\\lib\\site-packages\\numpy\\_distributor_init.py:32: UserWarning: loaded more than 1 DLL from .libs:\n",
      "C:\\Users\\D\\anaconda3\\envs\\ml\\lib\\site-packages\\numpy\\.libs\\libopenblas.NOIJJG62EMASZI6NYURL6JBKM4EVBGM7.gfortran-win_amd64.dll\n",
      "C:\\Users\\D\\anaconda3\\envs\\ml\\lib\\site-packages\\numpy\\.libs\\libopenblas.WCDJNK7YVMPZQ2ME2ZZHJJRJ3JIKNDB7.gfortran-win_amd64.dll\n",
      "  stacklevel=1)\n"
     ]
    }
   ],
   "source": [
    "from keras.models import load_model\n",
    "from keras import backend as K\n",
    "import pickle\n",
    "import glob\n",
    "import pandas as pd\n",
    "import librosa\n",
    "from keras.models import load_model\n",
    "from keras import backend as K\n",
    "import numpy as np\n",
    "from python_speech_features import mfcc"
   ]
  },
  {
   "cell_type": "code",
   "execution_count": 2,
   "metadata": {},
   "outputs": [],
   "source": [
    "#設定test的wav路徑\n",
    "wavs = glob.glob('D:\\\\Python\\\\ML\\\\HW3\\\\ML@NTUT-2021-Autumn-ASR\\\\test\\\\*.wav')\n",
    "with open('dictionary.pkl', 'rb') as fr:\n",
    "    [char2id, id2char, mfcc_mean, mfcc_std] = pickle.load(fr)\n",
    "\n",
    "mfcc_dim = 13\n",
    "###############################################\n",
    "#loading model\n",
    "model = load_model('asr4.h5',compile=False)\n",
    "###############################################\n",
    "def test_audio(wavs,index):\n",
    "    '''index = np.random.randint(len(wavs))'''\n",
    "    #print(wavs[index])\n",
    "    path_name=wavs[index].split(\"\\\\\")[-1]\n",
    "    path_name=path_name.split(\".\")[0]\n",
    "    audio, sr = librosa.load(wavs[index])\n",
    "    energy = librosa.feature.rms(audio)\n",
    "    frames = np.nonzero(energy >= np.max(energy) / 5)\n",
    "    indices = librosa.core.frames_to_samples(frames)[1]\n",
    "    audio = audio[indices[0]:indices[-1]] if indices.size else audio[0:0]\n",
    "    X_data = mfcc(audio, sr, numcep=mfcc_dim, nfft=551)\n",
    "    X_data = (X_data - mfcc_mean) / (mfcc_std + 1e-14)\n",
    "    #print(X_data.shape)\n",
    "    pred = model.predict(np.expand_dims(X_data, axis=0))\n",
    "    pred_ids = K.eval(K.ctc_decode(pred, [X_data.shape[0]], greedy=False, beam_width=10, top_paths=1)[0][0])\n",
    "    pred_ids = pred_ids.flatten().tolist()\n",
    "    #print(''.join([id2char[i] for i in pred_ids]))\n",
    "    \n",
    "    # 使用CTC會使input與output長度一致\n",
    "    # 導致output結尾會輸出許多-1\n",
    "    # 須將其移除 才能正確進行decoder\n",
    "    while(-1 in pred_ids): #將predict的-1移除\n",
    "        pred_ids.remove(-1)\n",
    "    return(path_name,''.join([id2char[i] for i in pred_ids])) #進行decoder\n"
   ]
  },
  {
   "cell_type": "code",
   "execution_count": 3,
   "metadata": {},
   "outputs": [
    {
     "name": "stdout",
     "output_type": "stream",
     "text": [
      "      id                                               text\n",
      "0      1  tset ho tsan se kai bing pang kah tiat lin khu...\n",
      "111    2                     ing am gua tsiah ka li tean lo\n",
      "222    3                                     ah beh sian po\n",
      "280    4                                  sC sit giam po so\n",
      "291    5           a sui kam mo a pai to li the i tshing ka\n",
      "..   ...                                                ...\n",
      "270  342         i sing jin iau koh u tsin tng e lo ai kian\n",
      "271  343                tsap ji pue a siak phoa kam iau kin\n",
      "272  344  tit jit pun sa khu la khui e hit tang tsun khu...\n",
      "273  345  bi kok kah Iran ma u kiong tong li ik pi lu Ir...\n",
      "274  346  si lai tsi sin bunm bang tsa e phing lon kan t...\n",
      "\n",
      "[346 rows x 2 columns]\n"
     ]
    }
   ],
   "source": [
    "sol=[]\n",
    "path_name=0\n",
    "for i in range(len(wavs)):\n",
    "    path_name , pre_data=test_audio(wavs,i)\n",
    "    sol.append((path_name,pre_data))\n",
    "df = pd.DataFrame(sol, columns = ['id' , 'text'])\n",
    "# 重新進行id的排序\n",
    "df.id = df.id.astype('int64')\n",
    "df=df.sort_values(by='id')\n",
    "# 儲存test的預測結果\n",
    "df.to_csv(\"sub4.csv\",index=False)\n",
    "#觀察結果\n",
    "print(df)"
   ]
  }
 ],
 "metadata": {
  "interpreter": {
   "hash": "ffe2feb6f293294786cb39b194ca5a866021eb3042eec2585a2b32dae0b12bec"
  },
  "kernelspec": {
   "display_name": "Python 3.7.11 64-bit ('ml': conda)",
   "language": "python",
   "name": "python3"
  },
  "language_info": {
   "codemirror_mode": {
    "name": "ipython",
    "version": 3
   },
   "file_extension": ".py",
   "mimetype": "text/x-python",
   "name": "python",
   "nbconvert_exporter": "python",
   "pygments_lexer": "ipython3",
   "version": "3.7.11"
  },
  "orig_nbformat": 4
 },
 "nbformat": 4,
 "nbformat_minor": 2
}
